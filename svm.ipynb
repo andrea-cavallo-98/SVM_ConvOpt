{
 "cells": [
  {
   "cell_type": "code",
   "execution_count": 87,
   "metadata": {},
   "outputs": [],
   "source": [
    "import numpy as np\n",
    "import pandas as pd\n",
    "from matplotlib import pyplot as plt\n",
    "import seaborn as sns\n",
    "sns.set()\n",
    "\n",
    "from sklearn.svm import SVC\n",
    "from cvxopt import matrix as cvxopt_matrix\n",
    "from cvxopt import solvers as cvxopt_solvers\n",
    "import scipy.io\n",
    "from time import process_time \n"
   ]
  },
  {
   "cell_type": "markdown",
   "metadata": {},
   "source": [
    "## Load and visualize data"
   ]
  },
  {
   "cell_type": "code",
   "execution_count": 88,
   "metadata": {},
   "outputs": [],
   "source": [
    "mat = scipy.io.loadmat('linear_svm.mat')\n",
    "X_train = mat[\"X_train\"]\n",
    "X_test = mat[\"X_test\"]\n",
    "y_train = mat[\"labels_train\"]\n",
    "y_test = mat[\"labels_test\"]"
   ]
  },
  {
   "cell_type": "markdown",
   "metadata": {},
   "source": [
    "## Define SVM problem and solve it with CVXOPT\n",
    "Soft-margin formulation of the problem"
   ]
  },
  {
   "cell_type": "code",
   "execution_count": 89,
   "metadata": {},
   "outputs": [
    {
     "name": "stdout",
     "output_type": "stream",
     "text": [
      "     pcost       dcost       gap    pres   dres\n",
      " 0: -6.1058e+01 -1.7531e+03  5e+03  8e-01  4e-14\n",
      " 1: -2.4301e+01 -4.6965e+02  7e+02  8e-02  4e-14\n",
      " 2: -4.3275e+00 -7.4855e+01  9e+01  9e-03  4e-14\n",
      " 3: -1.2853e+01 -4.0013e+01  3e+01  3e-03  3e-14\n",
      " 4: -1.7199e+01 -2.6575e+01  1e+01  6e-04  3e-14\n",
      " 5: -1.9208e+01 -2.4252e+01  5e+00  2e-04  4e-14\n",
      " 6: -2.0413e+01 -2.2084e+01  2e+00  6e-15  4e-14\n",
      " 7: -2.1152e+01 -2.1221e+01  7e-02  5e-16  4e-14\n",
      " 8: -2.1188e+01 -2.1189e+01  1e-03  3e-15  4e-14\n",
      " 9: -2.1189e+01 -2.1189e+01  2e-04  4e-16  4e-14\n",
      "10: -2.1189e+01 -2.1189e+01  2e-06  9e-15  5e-14\n",
      "Optimal solution found.\n"
     ]
    }
   ],
   "source": [
    "C = 5\n",
    "X_dash = y_train * X_train\n",
    "H = np.dot(X_dash , X_dash.T)\n",
    "N,M = X_train.shape\n",
    "y_train = y_train.reshape(-1,1) * 1.\n",
    "\n",
    "\n",
    "P = cvxopt_matrix(H)\n",
    "q = cvxopt_matrix(-np.ones((N, 1)))\n",
    "G = cvxopt_matrix(np.vstack((np.eye(N)*-1,np.eye(N))))\n",
    "h = cvxopt_matrix(np.hstack((np.zeros(N), np.ones(N) * C)))\n",
    "A = cvxopt_matrix(y_train.reshape(1, -1))\n",
    "b = cvxopt_matrix(np.zeros(1))\n",
    "\n",
    "#Run solver\n",
    "t1 = process_time()\n",
    "sol = cvxopt_solvers.qp(P, q, G, h, A, b)\n",
    "t2 = process_time()\n",
    "lambdas = np.array(sol['x'])"
   ]
  },
  {
   "cell_type": "code",
   "execution_count": 90,
   "metadata": {},
   "outputs": [],
   "source": [
    "# Extract parameters w and b\n",
    "w = np.matmul((y_train * lambdas).T, X_train).reshape(-1,1)\n",
    "S = ((lambdas > lambdas.mean()) * (lambdas < C)).flatten()\n",
    "b = (y_train[S] - np.dot(X_train[S], w))[0]\n"
   ]
  },
  {
   "cell_type": "code",
   "execution_count": 86,
   "metadata": {},
   "outputs": [
    {
     "data": {
      "text/plain": [
       "0.9788888888888889"
      ]
     },
     "execution_count": 86,
     "metadata": {},
     "output_type": "execute_result"
    }
   ],
   "source": [
    "# Train a linear SVM using sklearn for comparison\n",
    "\n",
    "clf = SVC(C = 5, kernel = 'linear')\n",
    "clf.fit(X_train, y_train.ravel()) \n",
    "\n",
    "(clf.predict(X_test) == y_test.T).sum() / len(y_test)"
   ]
  },
  {
   "cell_type": "markdown",
   "metadata": {},
   "source": [
    "## Evaluate model\n",
    "On test set"
   ]
  },
  {
   "cell_type": "code",
   "execution_count": 91,
   "metadata": {},
   "outputs": [
    {
     "name": "stdout",
     "output_type": "stream",
     "text": [
      "************ Accuracy *****************\n"
     ]
    },
    {
     "data": {
      "text/plain": [
       "0.9788888888888889"
      ]
     },
     "execution_count": 91,
     "metadata": {},
     "output_type": "execute_result"
    }
   ],
   "source": [
    "print(\"************ Accuracy *****************\")\n",
    "(np.sign(np.matmul(X_test, w) + b) == y_test).sum() / y_test.shape[0]"
   ]
  },
  {
   "cell_type": "code",
   "execution_count": 66,
   "metadata": {},
   "outputs": [],
   "source": [
    "np.save(\"w_OtSD\", w)\n",
    "np.save(\"b_OtSD\", b)"
   ]
  },
  {
   "cell_type": "code",
   "execution_count": 19,
   "metadata": {},
   "outputs": [
    {
     "data": {
      "text/plain": [
       "[<matplotlib.lines.Line2D at 0x1ad96a11950>]"
      ]
     },
     "execution_count": 19,
     "metadata": {},
     "output_type": "execute_result"
    },
    {
     "data": {
      "image/png": "[encoded data removed]",
      "text/plain": [
       "<Figure size 640x480 with 1 Axes>"
      ]
     },
     "metadata": {},
     "output_type": "display_data"
    }
   ],
   "source": [
    "# Plot separation surface\n",
    "plt.scatter(X_train[y_train.reshape(-1,)==1,0], X_train[y_train.reshape(-1,)==1,1])\n",
    "plt.scatter(X_train[y_train.reshape(-1,)==-1,0], X_train[y_train.reshape(-1,)==-1,1])\n",
    "plt.plot(np.linspace(1.2,2.5), np.linspace(1.2,2.5) * (-w[0]/w[1]) - b[0]/w[1])"
   ]
  },
  {
   "cell_type": "code",
   "execution_count": null,
   "metadata": {},
   "outputs": [],
   "source": []
  }
 ],
 "metadata": {
  "kernelspec": {
   "display_name": "base",
   "language": "python",
   "name": "python3"
  },
  "language_info": {
   "codemirror_mode": {
    "name": "ipython",
    "version": 3
   },
   "file_extension": ".py",
   "mimetype": "text/x-python",
   "name": "python",
   "nbconvert_exporter": "python",
   "pygments_lexer": "ipython3",
   "version": "3.11.5"
  }
 },
 "nbformat": 4,
 "nbformat_minor": 2
}
