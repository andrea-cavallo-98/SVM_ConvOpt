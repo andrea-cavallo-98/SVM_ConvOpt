{
 "cells": [
  {
   "cell_type": "code",
   "execution_count": 92,
   "metadata": {},
   "outputs": [],
   "source": [
    "import numpy as np\n",
    "import pandas as pd\n",
    "from matplotlib import pyplot as plt\n",
    "import seaborn as sns\n",
    "sns.set()\n",
    "\n",
    "from cvxopt import matrix as cvxopt_matrix\n",
    "from cvxopt import solvers as cvxopt_solvers\n",
    "import scipy.io\n",
    "from tqdm import tqdm\n",
    "from time import process_time \n",
    "import time"
   ]
  },
  {
   "cell_type": "markdown",
   "metadata": {},
   "source": [
    "## Load data"
   ]
  },
  {
   "cell_type": "code",
   "execution_count": 93,
   "metadata": {},
   "outputs": [],
   "source": [
    "mat = scipy.io.loadmat('linear_svm.mat')\n",
    "X_train = mat[\"X_train\"]\n",
    "X_test = mat[\"X_test\"]\n",
    "y_train = mat[\"labels_train\"]\n",
    "y_test = mat[\"labels_test\"]"
   ]
  },
  {
   "cell_type": "markdown",
   "metadata": {},
   "source": [
    "## Gradient descent optimizer"
   ]
  },
  {
   "cell_type": "code",
   "execution_count": 106,
   "metadata": {},
   "outputs": [],
   "source": [
    "def gd(iter, X, C, y, w, b, prev_iter=0):\n",
    "    t = prev_iter * X.shape[0]\n",
    "    for _ in range(iter):\n",
    "        for i in range(X.shape[0]):\n",
    "            t += 1\n",
    "            eta = 1 / np.sqrt(t)\n",
    "            if y[i] * (np.dot(w, X[i]) + b) < 1:\n",
    "                w = w - eta * (w - C * y[i] * X[i])\n",
    "                b = b + eta * C * y[i]\n",
    "            else:\n",
    "                w = w - eta * w\n",
    "\n",
    "    return w, b"
   ]
  },
  {
   "cell_type": "code",
   "execution_count": null,
   "metadata": {},
   "outputs": [],
   "source": [
    "w = np.zeros([X_train.shape[1]])\n",
    "b = 0\n",
    "C = 5\n",
    "N = X_train.shape[0]\n",
    "\n",
    "train_acc = []\n",
    "test_acc = []\n",
    "stop = False\n",
    "iter = 0\n",
    "prev_cost = 1000000\n",
    "tol = 1e-5\n",
    "t1 = time.time()\n",
    "MAX_ITER = 10000\n",
    "while iter < MAX_ITER:\n",
    "    w, b = gd(1, X_train, C, y_train, w, b, prev_iter=iter)\n",
    "    cost = 0.5 * np.dot(w,w) + C * np.maximum(np.zeros([N,]), 1 - y_train * (np.dot(w, X_train.T) + b)).sum()\n",
    "    cost_improvement = abs(prev_cost - cost) / cost\n",
    "    prev_cost = cost\n",
    "    if cost_improvement < tol:\n",
    "        stop = True\n",
    "    iter += 1\n",
    "    train_acc.append((np.sign(np.matmul(X_train, w) + b) == y_train.squeeze()).sum() / y_train.shape[0])\n",
    "    test_acc.append((np.sign(np.matmul(X_test, w) + b) == y_test.squeeze()).sum() / y_test.shape[0])        \n",
    "\n",
    "t2 = time.time()\n",
    "print(f\"Solution found in {iter} iterations, test acc {test_acc[-1]}\")"
   ]
  },
  {
   "cell_type": "markdown",
   "metadata": {},
   "source": [
    "## Evaluate model\n",
    "On test set"
   ]
  },
  {
   "cell_type": "code",
   "execution_count": null,
   "metadata": {},
   "outputs": [],
   "source": [
    "print(\"************ Accuracy *****************\")\n",
    "(np.sign(np.matmul(X_test, w) + b) == y_test.squeeze()).sum() / y_test.shape[0]"
   ]
  },
  {
   "cell_type": "code",
   "execution_count": null,
   "metadata": {},
   "outputs": [],
   "source": [
    "print(f\"Time for execution: {t2-t1}\") "
   ]
  },
  {
   "cell_type": "code",
   "execution_count": 98,
   "metadata": {},
   "outputs": [],
   "source": [
    "# Save parameters\n",
    "np.save(\"w_SDP\", w)\n",
    "np.save(\"b_SDP\", b)"
   ]
  }
 ],
 "metadata": {
  "kernelspec": {
   "display_name": "base",
   "language": "python",
   "name": "python3"
  },
  "language_info": {
   "codemirror_mode": {
    "name": "ipython",
    "version": 3
   },
   "file_extension": ".py",
   "mimetype": "text/x-python",
   "name": "python",
   "nbconvert_exporter": "python",
   "pygments_lexer": "ipython3",
   "version": "3.11.5"
  }
 },
 "nbformat": 4,
 "nbformat_minor": 2
}
