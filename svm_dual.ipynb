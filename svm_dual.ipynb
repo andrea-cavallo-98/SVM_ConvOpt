{
 "cells": [
  {
   "cell_type": "code",
   "execution_count": 16,
   "metadata": {},
   "outputs": [],
   "source": [
    "import numpy as np\n",
    "import pandas as pd\n",
    "from matplotlib import pyplot as plt\n",
    "import seaborn as sns\n",
    "sns.set()\n",
    "\n",
    "from sklearn.svm import SVC\n",
    "from cvxopt import matrix as cvxopt_matrix\n",
    "from cvxopt import solvers as cvxopt_solvers\n",
    "import scipy.io\n",
    "import time\n"
   ]
  },
  {
   "cell_type": "markdown",
   "metadata": {},
   "source": [
    "## Load data"
   ]
  },
  {
   "cell_type": "code",
   "execution_count": 8,
   "metadata": {},
   "outputs": [],
   "source": [
    "mat = scipy.io.loadmat('linear_svm.mat')\n",
    "X_train = mat[\"X_train\"]\n",
    "X_test = mat[\"X_test\"]\n",
    "y_train = mat[\"labels_train\"]\n",
    "y_test = mat[\"labels_test\"]"
   ]
  },
  {
   "cell_type": "markdown",
   "metadata": {},
   "source": [
    "## Define SVM problem and solve it with CVXOPT"
   ]
  },
  {
   "cell_type": "code",
   "execution_count": null,
   "metadata": {},
   "outputs": [],
   "source": [
    "C = 5\n",
    "X_dash = y_train * X_train\n",
    "H = np.dot(X_dash , X_dash.T)\n",
    "N,M = X_train.shape\n",
    "y_train = y_train.reshape(-1,1) * 1.\n",
    "\n",
    "cvxopt_solvers.options['reltol'] = 1e-5\n",
    "\n",
    "P = cvxopt_matrix(H)\n",
    "q = cvxopt_matrix(-np.ones((N, 1)))\n",
    "G = cvxopt_matrix(np.vstack((np.eye(N)*-1,np.eye(N))))\n",
    "h = cvxopt_matrix(np.hstack((np.zeros(N), np.ones(N) * C)))\n",
    "A = cvxopt_matrix(y_train.reshape(1, -1))\n",
    "b = cvxopt_matrix(np.zeros(1))\n",
    "\n",
    "#Run solver\n",
    "t1 = time.time()\n",
    "sol = cvxopt_solvers.qp(P, q, G, h, A, b)\n",
    "t2 = time.time()\n",
    "lambdas = np.array(sol['x'])"
   ]
  },
  {
   "cell_type": "code",
   "execution_count": 29,
   "metadata": {},
   "outputs": [],
   "source": [
    "# Extract parameters w and b\n",
    "w = np.matmul((y_train * lambdas).T, X_train).reshape(-1,1)\n",
    "S = ((lambdas > lambdas.mean()) * (lambdas < C)).flatten()\n",
    "b = (y_train[S] - np.dot(X_train[S], w))[0]\n"
   ]
  },
  {
   "cell_type": "code",
   "execution_count": null,
   "metadata": {},
   "outputs": [],
   "source": [
    "# Train a linear SVM using sklearn for comparison\n",
    "\n",
    "clf = SVC(C = 5, kernel = 'linear')\n",
    "clf.fit(X_train, y_train.ravel()) \n",
    "\n",
    "(clf.predict(X_test) == y_test.T).sum() / len(y_test)"
   ]
  },
  {
   "cell_type": "markdown",
   "metadata": {},
   "source": [
    "## Evaluate model\n",
    "On test set"
   ]
  },
  {
   "cell_type": "code",
   "execution_count": null,
   "metadata": {},
   "outputs": [],
   "source": [
    "print(\"************ Accuracy *****************\")\n",
    "(np.sign(np.matmul(X_test, w) + b) == y_test).sum() / y_test.shape[0]"
   ]
  },
  {
   "cell_type": "code",
   "execution_count": null,
   "metadata": {},
   "outputs": [],
   "source": [
    "print(f\"Time for execution: {t2-t1}\") "
   ]
  },
  {
   "cell_type": "code",
   "execution_count": 13,
   "metadata": {},
   "outputs": [],
   "source": [
    "# Save parameters\n",
    "np.save(\"w_OtSD\", w)\n",
    "np.save(\"b_OtSD\", b)"
   ]
  }
 ],
 "metadata": {
  "kernelspec": {
   "display_name": "base",
   "language": "python",
   "name": "python3"
  },
  "language_info": {
   "codemirror_mode": {
    "name": "ipython",
    "version": 3
   },
   "file_extension": ".py",
   "mimetype": "text/x-python",
   "name": "python",
   "nbconvert_exporter": "python",
   "pygments_lexer": "ipython3",
   "version": "3.11.5"
  }
 },
 "nbformat": 4,
 "nbformat_minor": 2
}
