{
 "cells": [
  {
   "cell_type": "code",
   "execution_count": 37,
   "metadata": {},
   "outputs": [],
   "source": [
    "import numpy as np\n",
    "import pandas as pd\n",
    "from matplotlib import pyplot as plt\n",
    "import seaborn as sns\n",
    "sns.set()\n",
    "\n",
    "from sklearn.svm import SVC\n",
    "from cvxopt import matrix as cvxopt_matrix\n",
    "from cvxopt import solvers as cvxopt_solvers\n",
    "import scipy.io\n",
    "import time\n"
   ]
  },
  {
   "cell_type": "markdown",
   "metadata": {},
   "source": [
    "## Load and visualize data"
   ]
  },
  {
   "cell_type": "code",
   "execution_count": 26,
   "metadata": {},
   "outputs": [],
   "source": [
    "mat = scipy.io.loadmat('linear_svm.mat')\n",
    "X_train = mat[\"X_train\"]\n",
    "X_test = mat[\"X_test\"]\n",
    "y_train = mat[\"labels_train\"]\n",
    "y_test = mat[\"labels_test\"]"
   ]
  },
  {
   "cell_type": "markdown",
   "metadata": {},
   "source": [
    "## Define SVM problem and solve it with CVXOPT\n",
    "Soft-margin formulation of the problem"
   ]
  },
  {
   "cell_type": "code",
   "execution_count": 27,
   "metadata": {},
   "outputs": [],
   "source": [
    "N,M = X_train.shape"
   ]
  },
  {
   "cell_type": "code",
   "execution_count": 28,
   "metadata": {},
   "outputs": [],
   "source": [
    "C = 5\n",
    "P = np.zeros([N+1+M, N+1+M])\n",
    "for i in range(M):\n",
    "    P[i,i] = 0.5\n",
    "\n",
    "q = np.zeros([N+1+M,])\n",
    "for i in range(1,N+1):\n",
    "    q[-i] = C\n",
    "\n",
    "G = np.zeros([2 * N, N + 1 + M])\n",
    "for i in range(N):\n",
    "    G[i, :M] = y_train[i] * X_train[i]\n",
    "    G[i, M] = y_train[i]\n",
    "    G[i, M + 1 + i] = 1\n",
    "    G[N + i, M + 1 + i] = 1\n",
    "G = - G \n",
    "\n",
    "h = np.concatenate((- np.ones([N,]), np.zeros([N,])))"
   ]
  },
  {
   "cell_type": "code",
   "execution_count": 47,
   "metadata": {},
   "outputs": [
    {
     "name": "stdout",
     "output_type": "stream",
     "text": [
      "     pcost       dcost       gap    pres   dres\n",
      " 0: -2.1452e+03  1.4653e+03  5e+03  1e+01  6e+00\n",
      " 1:  3.6479e+01 -1.7299e+02  7e+02  1e+00  6e-01\n",
      " 2:  1.4470e+01 -2.7684e+01  1e+02  2e-01  9e-02\n",
      " 3:  1.6862e+01  4.2971e+00  2e+01  3e-02  2e-02\n",
      " 4:  1.8393e+01  1.0356e+01  1e+01  1e-02  6e-03\n",
      " 5:  1.7239e+01  1.3862e+01  3e+00  3e-15  4e-14\n",
      " 6:  1.5448e+01  1.5208e+01  2e-01  2e-15  1e-13\n",
      " 7:  1.5337e+01  1.5332e+01  4e-03  2e-15  4e-13\n",
      " 8:  1.5335e+01  1.5335e+01  2e-04  2e-15  2e-12\n",
      " 9:  1.5335e+01  1.5335e+01  2e-06  2e-15  3e-13\n",
      "10:  1.5335e+01  1.5335e+01  2e-08  2e-15  1e-13\n",
      "11:  1.5335e+01  1.5335e+01  2e-10  2e-15  5e-14\n",
      "Optimal solution found.\n"
     ]
    }
   ],
   "source": [
    "cvxopt_solvers.options['reltol'] = 1e-5 # stopping condition\n",
    "\n",
    "P = cvxopt_matrix(P)\n",
    "q = cvxopt_matrix(q)\n",
    "G = cvxopt_matrix(G)\n",
    "h = cvxopt_matrix(h)\n",
    "\n",
    "t1 = time.time()\n",
    "sol = cvxopt_solvers.qp(P, q, G, h)\n",
    "t2 = time.time()\n",
    "x = np.array(sol['x'])"
   ]
  },
  {
   "cell_type": "code",
   "execution_count": 39,
   "metadata": {},
   "outputs": [],
   "source": [
    "# Extract parameters w and b\n",
    "w = x[:M]\n",
    "b = x[M]"
   ]
  },
  {
   "cell_type": "markdown",
   "metadata": {},
   "source": [
    "## Evaluate model\n",
    "On test set"
   ]
  },
  {
   "cell_type": "code",
   "execution_count": 43,
   "metadata": {},
   "outputs": [
    {
     "name": "stdout",
     "output_type": "stream",
     "text": [
      "************ Accuracy *****************\n"
     ]
    },
    {
     "data": {
      "text/plain": [
       "0.9788888888888889"
      ]
     },
     "execution_count": 43,
     "metadata": {},
     "output_type": "execute_result"
    }
   ],
   "source": [
    "print(\"************ Accuracy *****************\")\n",
    "(np.sign(np.matmul(X_test, w) + b) == y_test).sum() / y_test.shape[0]"
   ]
  },
  {
   "cell_type": "code",
   "execution_count": 48,
   "metadata": {},
   "outputs": [
    {
     "data": {
      "text/plain": [
       "0.0370938777923584"
      ]
     },
     "execution_count": 48,
     "metadata": {},
     "output_type": "execute_result"
    }
   ],
   "source": [
    "t2-t1"
   ]
  },
  {
   "cell_type": "code",
   "execution_count": 32,
   "metadata": {},
   "outputs": [],
   "source": [
    "np.save(\"w_OtSP\", w)\n",
    "np.save(\"b_OtSP\", b)"
   ]
  },
  {
   "cell_type": "code",
   "execution_count": 36,
   "metadata": {},
   "outputs": [
    {
     "data": {
      "text/plain": [
       "[<matplotlib.lines.Line2D at 0x1f546e2a790>]"
      ]
     },
     "execution_count": 36,
     "metadata": {},
     "output_type": "execute_result"
    },
    {
     "data": {
      "image/png": "[encoded data removed]",
      "text/plain": [
       "<Figure size 640x480 with 1 Axes>"
      ]
     },
     "metadata": {},
     "output_type": "display_data"
    }
   ],
   "source": [
    "# Plot separation surface\n",
    "plt.scatter(X_train[y_train.reshape(-1,)==1,0], X_train[y_train.reshape(-1,)==1,1])\n",
    "plt.scatter(X_train[y_train.reshape(-1,)==-1,0], X_train[y_train.reshape(-1,)==-1,1])\n",
    "plt.plot(np.linspace(1.2,2.5), np.linspace(1.2,2.5) * (-w[0]/w[1]) - b[0]/w[1])"
   ]
  },
  {
   "cell_type": "code",
   "execution_count": null,
   "metadata": {},
   "outputs": [],
   "source": []
  }
 ],
 "metadata": {
  "kernelspec": {
   "display_name": "base",
   "language": "python",
   "name": "python3"
  },
  "language_info": {
   "codemirror_mode": {
    "name": "ipython",
    "version": 3
   },
   "file_extension": ".py",
   "mimetype": "text/x-python",
   "name": "python",
   "nbconvert_exporter": "python",
   "pygments_lexer": "ipython3",
   "version": "3.11.5"
  }
 },
 "nbformat": 4,
 "nbformat_minor": 2
}
